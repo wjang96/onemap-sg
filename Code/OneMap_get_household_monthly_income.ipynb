{
 "cells": [
  {
   "cell_type": "code",
   "execution_count": 1,
   "id": "70d3ce23",
   "metadata": {},
   "outputs": [],
   "source": [
    "import pandas as pd\n",
    "import json\n",
    "import requests\n",
    "import csv\n",
    "import json\n",
    "import datetime\n",
    "\n",
    "\n",
    "df = pd.read_csv('planning_area_list_2022.csv')\n",
    "# Remove the first row as it is not relevant\n",
    "df = df.tail(-1) "
   ]
  },
  {
   "cell_type": "code",
   "execution_count": 2,
   "id": "561902db",
   "metadata": {},
   "outputs": [
    {
     "name": "stdout",
     "output_type": "stream",
     "text": [
      "Success! json dataset to convert to csv is embedded in data_info['Result']\n",
      "[{'planning_area': 'Bedok', 'total': 97553, 'below_sgd_1000': 2203, 'no_working_person': 16818, 'sgd_10000_over': 0, 'sgd_10000_to_10999': 3291, 'sgd_11000_to_11999': 2685, 'sgd_1000_to_1999': 5278, 'sgd_12000_to_12999': 2620, 'sgd_13000_to_13999': 2564, 'sgd_14000_to_14999': 1838, 'sgd_15000_to_17499': 4080, 'sgd_17500_to_19999': 3349, 'sgd_20000_over': 17125, 'sgd_2000_to_2999': 5245, 'sgd_3000_to_3999': 5521, 'sgd_4000_to_4999': 4641, 'sgd_5000_to_5999': 5102, 'sgd_6000_to_6999': 3868, 'sgd_7000_to_7999': 4229, 'sgd_8000_over': 0, 'sgd_8000_to_8999': 3455, 'sgd_9000_to_9999': 3641, 'year': 2020}]\n"
     ]
    },
    {
     "name": "stderr",
     "output_type": "stream",
     "text": [
      "/var/folders/n5/1wkddp5s2nl935zfz5y7tg480000gn/T/ipykernel_19700/4270672494.py:32: FutureWarning: pandas.io.json.json_normalize is deprecated, use pandas.json_normalize instead.\n",
      "  flattendata = json_normalize(data)\n"
     ]
    },
    {
     "name": "stdout",
     "output_type": "stream",
     "text": [
      "Success! json dataset to convert to csv is embedded in data_info['Result']\n",
      "[{'planning_area': 'Bukit Timah', 'total': 24612, 'below_sgd_1000': 294, 'no_working_person': 3846, 'sgd_10000_over': 0, 'sgd_10000_to_10999': 617, 'sgd_11000_to_11999': 553, 'sgd_1000_to_1999': 364, 'sgd_12000_to_12999': 482, 'sgd_13000_to_13999': 445, 'sgd_14000_to_14999': 471, 'sgd_15000_to_17499': 1249, 'sgd_17500_to_19999': 1102, 'sgd_20000_over': 11174, 'sgd_2000_to_2999': 455, 'sgd_3000_to_3999': 356, 'sgd_4000_to_4999': 474, 'sgd_5000_to_5999': 559, 'sgd_6000_to_6999': 485, 'sgd_7000_to_7999': 623, 'sgd_8000_over': 0, 'sgd_8000_to_8999': 575, 'sgd_9000_to_9999': 488, 'year': 2020}]\n",
      "Success! json dataset to convert to csv is embedded in data_info['Result']\n",
      "[{'planning_area': 'Bukit Batok', 'total': 54298, 'below_sgd_1000': 847, 'no_working_person': 5983, 'sgd_10000_over': 0, 'sgd_10000_to_10999': 2003, 'sgd_11000_to_11999': 2187, 'sgd_1000_to_1999': 3328, 'sgd_12000_to_12999': 1504, 'sgd_13000_to_13999': 1640, 'sgd_14000_to_14999': 1475, 'sgd_15000_to_17499': 2963, 'sgd_17500_to_19999': 2037, 'sgd_20000_over': 7142, 'sgd_2000_to_2999': 3031, 'sgd_3000_to_3999': 3136, 'sgd_4000_to_4999': 3200, 'sgd_5000_to_5999': 3206, 'sgd_6000_to_6999': 2713, 'sgd_7000_to_7999': 2731, 'sgd_8000_over': 0, 'sgd_8000_to_8999': 2813, 'sgd_9000_to_9999': 2359, 'year': 2020}]\n"
     ]
    },
    {
     "name": "stderr",
     "output_type": "stream",
     "text": [
      "/var/folders/n5/1wkddp5s2nl935zfz5y7tg480000gn/T/ipykernel_19700/4270672494.py:32: FutureWarning: pandas.io.json.json_normalize is deprecated, use pandas.json_normalize instead.\n",
      "  flattendata = json_normalize(data)\n",
      "/var/folders/n5/1wkddp5s2nl935zfz5y7tg480000gn/T/ipykernel_19700/4270672494.py:32: FutureWarning: pandas.io.json.json_normalize is deprecated, use pandas.json_normalize instead.\n",
      "  flattendata = json_normalize(data)\n"
     ]
    },
    {
     "name": "stdout",
     "output_type": "stream",
     "text": [
      "Success! json dataset to convert to csv is embedded in data_info['Result']\n",
      "[{'planning_area': 'Bukit Merah', 'total': 59701, 'below_sgd_1000': 1899, 'no_working_person': 12444, 'sgd_10000_over': 0, 'sgd_10000_to_10999': 2012, 'sgd_11000_to_11999': 1748, 'sgd_1000_to_1999': 4583, 'sgd_12000_to_12999': 1536, 'sgd_13000_to_13999': 1337, 'sgd_14000_to_14999': 1360, 'sgd_15000_to_17499': 3129, 'sgd_17500_to_19999': 2025, 'sgd_20000_over': 7748, 'sgd_2000_to_2999': 3478, 'sgd_3000_to_3999': 3465, 'sgd_4000_to_4999': 2339, 'sgd_5000_to_5999': 2557, 'sgd_6000_to_6999': 2173, 'sgd_7000_to_7999': 2255, 'sgd_8000_over': 0, 'sgd_8000_to_8999': 1826, 'sgd_9000_to_9999': 1787, 'year': 2020}]\n",
      "Success! json dataset to convert to csv is embedded in data_info['Result']\n",
      "[{'planning_area': 'Central Water Catchment', 'total': 0, 'below_sgd_1000': 0, 'no_working_person': 0, 'sgd_10000_over': 0, 'sgd_10000_to_10999': 0, 'sgd_11000_to_11999': 0, 'sgd_1000_to_1999': 0, 'sgd_12000_to_12999': 0, 'sgd_13000_to_13999': 0, 'sgd_14000_to_14999': 0, 'sgd_15000_to_17499': 0, 'sgd_17500_to_19999': 0, 'sgd_20000_over': 0, 'sgd_2000_to_2999': 0, 'sgd_3000_to_3999': 0, 'sgd_4000_to_4999': 0, 'sgd_5000_to_5999': 0, 'sgd_6000_to_6999': 0, 'sgd_7000_to_7999': 0, 'sgd_8000_over': 0, 'sgd_8000_to_8999': 0, 'sgd_9000_to_9999': 0, 'year': 2020}]\n"
     ]
    },
    {
     "name": "stderr",
     "output_type": "stream",
     "text": [
      "/var/folders/n5/1wkddp5s2nl935zfz5y7tg480000gn/T/ipykernel_19700/4270672494.py:32: FutureWarning: pandas.io.json.json_normalize is deprecated, use pandas.json_normalize instead.\n",
      "  flattendata = json_normalize(data)\n",
      "/var/folders/n5/1wkddp5s2nl935zfz5y7tg480000gn/T/ipykernel_19700/4270672494.py:32: FutureWarning: pandas.io.json.json_normalize is deprecated, use pandas.json_normalize instead.\n",
      "  flattendata = json_normalize(data)\n"
     ]
    },
    {
     "name": "stdout",
     "output_type": "stream",
     "text": [
      "Success! json dataset to convert to csv is embedded in data_info['Result']\n",
      "[{'planning_area': 'Downtown Core', 'total': 1546, 'below_sgd_1000': 21, 'no_working_person': 175, 'sgd_10000_over': 0, 'sgd_10000_to_10999': 53, 'sgd_11000_to_11999': 47, 'sgd_1000_to_1999': 22, 'sgd_12000_to_12999': 53, 'sgd_13000_to_13999': 42, 'sgd_14000_to_14999': 16, 'sgd_15000_to_17499': 102, 'sgd_17500_to_19999': 70, 'sgd_20000_over': 632, 'sgd_2000_to_2999': 32, 'sgd_3000_to_3999': 25, 'sgd_4000_to_4999': 47, 'sgd_5000_to_5999': 48, 'sgd_6000_to_6999': 45, 'sgd_7000_to_7999': 20, 'sgd_8000_over': 0, 'sgd_8000_to_8999': 49, 'sgd_9000_to_9999': 47, 'year': 2020}]\n"
     ]
    },
    {
     "name": "stderr",
     "output_type": "stream",
     "text": [
      "/var/folders/n5/1wkddp5s2nl935zfz5y7tg480000gn/T/ipykernel_19700/4270672494.py:32: FutureWarning: pandas.io.json.json_normalize is deprecated, use pandas.json_normalize instead.\n",
      "  flattendata = json_normalize(data)\n"
     ]
    },
    {
     "name": "stdout",
     "output_type": "stream",
     "text": [
      "Success! json dataset to convert to csv is embedded in data_info['Result']\n",
      "[{'planning_area': 'Changi', 'total': 0, 'below_sgd_1000': 0, 'no_working_person': 0, 'sgd_10000_over': 0, 'sgd_10000_to_10999': 0, 'sgd_11000_to_11999': 0, 'sgd_1000_to_1999': 0, 'sgd_12000_to_12999': 0, 'sgd_13000_to_13999': 0, 'sgd_14000_to_14999': 0, 'sgd_15000_to_17499': 0, 'sgd_17500_to_19999': 0, 'sgd_20000_over': 0, 'sgd_2000_to_2999': 0, 'sgd_3000_to_3999': 0, 'sgd_4000_to_4999': 0, 'sgd_5000_to_5999': 0, 'sgd_6000_to_6999': 0, 'sgd_7000_to_7999': 0, 'sgd_8000_over': 0, 'sgd_8000_to_8999': 0, 'sgd_9000_to_9999': 0, 'year': 2020}]\n",
      "Success! json dataset to convert to csv is embedded in data_info['Result']\n",
      "[{'planning_area': 'Changi Bay', 'total': 0, 'below_sgd_1000': 0, 'no_working_person': 0, 'sgd_10000_over': 0, 'sgd_10000_to_10999': 0, 'sgd_11000_to_11999': 0, 'sgd_1000_to_1999': 0, 'sgd_12000_to_12999': 0, 'sgd_13000_to_13999': 0, 'sgd_14000_to_14999': 0, 'sgd_15000_to_17499': 0, 'sgd_17500_to_19999': 0, 'sgd_20000_over': 0, 'sgd_2000_to_2999': 0, 'sgd_3000_to_3999': 0, 'sgd_4000_to_4999': 0, 'sgd_5000_to_5999': 0, 'sgd_6000_to_6999': 0, 'sgd_7000_to_7999': 0, 'sgd_8000_over': 0, 'sgd_8000_to_8999': 0, 'sgd_9000_to_9999': 0, 'year': 2020}]\n"
     ]
    },
    {
     "name": "stderr",
     "output_type": "stream",
     "text": [
      "/var/folders/n5/1wkddp5s2nl935zfz5y7tg480000gn/T/ipykernel_19700/4270672494.py:32: FutureWarning: pandas.io.json.json_normalize is deprecated, use pandas.json_normalize instead.\n",
      "  flattendata = json_normalize(data)\n",
      "/var/folders/n5/1wkddp5s2nl935zfz5y7tg480000gn/T/ipykernel_19700/4270672494.py:32: FutureWarning: pandas.io.json.json_normalize is deprecated, use pandas.json_normalize instead.\n",
      "  flattendata = json_normalize(data)\n"
     ]
    },
    {
     "name": "stdout",
     "output_type": "stream",
     "text": [
      "Success! json dataset to convert to csv is embedded in data_info['Result']\n",
      "[{'planning_area': 'Lim Chu Kang', 'total': 0, 'below_sgd_1000': 0, 'no_working_person': 0, 'sgd_10000_over': 0, 'sgd_10000_to_10999': 0, 'sgd_11000_to_11999': 0, 'sgd_1000_to_1999': 0, 'sgd_12000_to_12999': 0, 'sgd_13000_to_13999': 0, 'sgd_14000_to_14999': 0, 'sgd_15000_to_17499': 0, 'sgd_17500_to_19999': 0, 'sgd_20000_over': 0, 'sgd_2000_to_2999': 0, 'sgd_3000_to_3999': 0, 'sgd_4000_to_4999': 0, 'sgd_5000_to_5999': 0, 'sgd_6000_to_6999': 0, 'sgd_7000_to_7999': 0, 'sgd_8000_over': 0, 'sgd_8000_to_8999': 0, 'sgd_9000_to_9999': 0, 'year': 2020}]\n"
     ]
    },
    {
     "name": "stderr",
     "output_type": "stream",
     "text": [
      "/var/folders/n5/1wkddp5s2nl935zfz5y7tg480000gn/T/ipykernel_19700/4270672494.py:32: FutureWarning: pandas.io.json.json_normalize is deprecated, use pandas.json_normalize instead.\n",
      "  flattendata = json_normalize(data)\n"
     ]
    },
    {
     "name": "stdout",
     "output_type": "stream",
     "text": [
      "Success! json dataset to convert to csv is embedded in data_info['Result']\n",
      "{'Result': 'No Data Available!'}\n"
     ]
    },
    {
     "name": "stderr",
     "output_type": "stream",
     "text": [
      "/var/folders/n5/1wkddp5s2nl935zfz5y7tg480000gn/T/ipykernel_19700/4270672494.py:32: FutureWarning: pandas.io.json.json_normalize is deprecated, use pandas.json_normalize instead.\n",
      "  flattendata = json_normalize(data)\n"
     ]
    },
    {
     "name": "stdout",
     "output_type": "stream",
     "text": [
      "Success! json dataset to convert to csv is embedded in data_info['Result']\n",
      "[{'planning_area': 'Western Water Catchment', 'total': 0, 'below_sgd_1000': 0, 'no_working_person': 0, 'sgd_10000_over': 0, 'sgd_10000_to_10999': 0, 'sgd_11000_to_11999': 0, 'sgd_1000_to_1999': 0, 'sgd_12000_to_12999': 0, 'sgd_13000_to_13999': 0, 'sgd_14000_to_14999': 0, 'sgd_15000_to_17499': 0, 'sgd_17500_to_19999': 0, 'sgd_20000_over': 0, 'sgd_2000_to_2999': 0, 'sgd_3000_to_3999': 0, 'sgd_4000_to_4999': 0, 'sgd_5000_to_5999': 0, 'sgd_6000_to_6999': 0, 'sgd_7000_to_7999': 0, 'sgd_8000_over': 0, 'sgd_8000_to_8999': 0, 'sgd_9000_to_9999': 0, 'year': 2020}]\n",
      "Success! json dataset to convert to csv is embedded in data_info['Result']\n",
      "[{'planning_area': 'Woodlands', 'total': 78842, 'below_sgd_1000': 1293, 'no_working_person': 7133, 'sgd_10000_over': 0, 'sgd_10000_to_10999': 3379, 'sgd_11000_to_11999': 3239, 'sgd_1000_to_1999': 3913, 'sgd_12000_to_12999': 2861, 'sgd_13000_to_13999': 2903, 'sgd_14000_to_14999': 2152, 'sgd_15000_to_17499': 4524, 'sgd_17500_to_19999': 2669, 'sgd_20000_over': 5064, 'sgd_2000_to_2999': 4488, 'sgd_3000_to_3999': 5132, 'sgd_4000_to_4999': 5032, 'sgd_5000_to_5999': 5584, 'sgd_6000_to_6999': 5249, 'sgd_7000_to_7999': 5025, 'sgd_8000_over': 0, 'sgd_8000_to_8999': 4606, 'sgd_9000_to_9999': 4596, 'year': 2020}]\n"
     ]
    },
    {
     "name": "stderr",
     "output_type": "stream",
     "text": [
      "/var/folders/n5/1wkddp5s2nl935zfz5y7tg480000gn/T/ipykernel_19700/4270672494.py:32: FutureWarning: pandas.io.json.json_normalize is deprecated, use pandas.json_normalize instead.\n",
      "  flattendata = json_normalize(data)\n",
      "/var/folders/n5/1wkddp5s2nl935zfz5y7tg480000gn/T/ipykernel_19700/4270672494.py:32: FutureWarning: pandas.io.json.json_normalize is deprecated, use pandas.json_normalize instead.\n",
      "  flattendata = json_normalize(data)\n"
     ]
    },
    {
     "name": "stdout",
     "output_type": "stream",
     "text": [
      "Success! json dataset to convert to csv is embedded in data_info['Result']\n",
      "[{'planning_area': 'Marine Parade', 'total': 17070, 'below_sgd_1000': 339, 'no_working_person': 3552, 'sgd_10000_over': 0, 'sgd_10000_to_10999': 468, 'sgd_11000_to_11999': 426, 'sgd_1000_to_1999': 683, 'sgd_12000_to_12999': 366, 'sgd_13000_to_13999': 304, 'sgd_14000_to_14999': 253, 'sgd_15000_to_17499': 773, 'sgd_17500_to_19999': 661, 'sgd_20000_over': 4770, 'sgd_2000_to_2999': 652, 'sgd_3000_to_3999': 736, 'sgd_4000_to_4999': 595, 'sgd_5000_to_5999': 510, 'sgd_6000_to_6999': 500, 'sgd_7000_to_7999': 460, 'sgd_8000_over': 0, 'sgd_8000_to_8999': 573, 'sgd_9000_to_9999': 449, 'year': 2020}]\n"
     ]
    },
    {
     "name": "stderr",
     "output_type": "stream",
     "text": [
      "/var/folders/n5/1wkddp5s2nl935zfz5y7tg480000gn/T/ipykernel_19700/4270672494.py:32: FutureWarning: pandas.io.json.json_normalize is deprecated, use pandas.json_normalize instead.\n",
      "  flattendata = json_normalize(data)\n"
     ]
    },
    {
     "name": "stdout",
     "output_type": "stream",
     "text": [
      "Success! json dataset to convert to csv is embedded in data_info['Result']\n",
      "[{'planning_area': 'Newton', 'total': 0, 'below_sgd_1000': 0, 'no_working_person': 0, 'sgd_10000_over': 0, 'sgd_10000_to_10999': 0, 'sgd_11000_to_11999': 0, 'sgd_1000_to_1999': 0, 'sgd_12000_to_12999': 0, 'sgd_13000_to_13999': 0, 'sgd_14000_to_14999': 0, 'sgd_15000_to_17499': 0, 'sgd_17500_to_19999': 0, 'sgd_20000_over': 0, 'sgd_2000_to_2999': 0, 'sgd_3000_to_3999': 0, 'sgd_4000_to_4999': 0, 'sgd_5000_to_5999': 0, 'sgd_6000_to_6999': 0, 'sgd_7000_to_7999': 0, 'sgd_8000_over': 0, 'sgd_8000_to_8999': 0, 'sgd_9000_to_9999': 0, 'year': 2020}]\n"
     ]
    },
    {
     "name": "stderr",
     "output_type": "stream",
     "text": [
      "/var/folders/n5/1wkddp5s2nl935zfz5y7tg480000gn/T/ipykernel_19700/4270672494.py:32: FutureWarning: pandas.io.json.json_normalize is deprecated, use pandas.json_normalize instead.\n",
      "  flattendata = json_normalize(data)\n"
     ]
    },
    {
     "name": "stdout",
     "output_type": "stream",
     "text": [
      "Success! json dataset to convert to csv is embedded in data_info['Result']\n",
      "[{'planning_area': 'North-Eastern Islands', 'total': 0, 'below_sgd_1000': 0, 'no_working_person': 0, 'sgd_10000_over': 0, 'sgd_10000_to_10999': 0, 'sgd_11000_to_11999': 0, 'sgd_1000_to_1999': 0, 'sgd_12000_to_12999': 0, 'sgd_13000_to_13999': 0, 'sgd_14000_to_14999': 0, 'sgd_15000_to_17499': 0, 'sgd_17500_to_19999': 0, 'sgd_20000_over': 0, 'sgd_2000_to_2999': 0, 'sgd_3000_to_3999': 0, 'sgd_4000_to_4999': 0, 'sgd_5000_to_5999': 0, 'sgd_6000_to_6999': 0, 'sgd_7000_to_7999': 0, 'sgd_8000_over': 0, 'sgd_8000_to_8999': 0, 'sgd_9000_to_9999': 0, 'year': 2020}]\n",
      "Success! json dataset to convert to csv is embedded in data_info['Result']\n",
      "[{'planning_area': 'Orchard', 'total': 0, 'below_sgd_1000': 0, 'no_working_person': 0, 'sgd_10000_over': 0, 'sgd_10000_to_10999': 0, 'sgd_11000_to_11999': 0, 'sgd_1000_to_1999': 0, 'sgd_12000_to_12999': 0, 'sgd_13000_to_13999': 0, 'sgd_14000_to_14999': 0, 'sgd_15000_to_17499': 0, 'sgd_17500_to_19999': 0, 'sgd_20000_over': 0, 'sgd_2000_to_2999': 0, 'sgd_3000_to_3999': 0, 'sgd_4000_to_4999': 0, 'sgd_5000_to_5999': 0, 'sgd_6000_to_6999': 0, 'sgd_7000_to_7999': 0, 'sgd_8000_over': 0, 'sgd_8000_to_8999': 0, 'sgd_9000_to_9999': 0, 'year': 2020}]\n"
     ]
    },
    {
     "name": "stderr",
     "output_type": "stream",
     "text": [
      "/var/folders/n5/1wkddp5s2nl935zfz5y7tg480000gn/T/ipykernel_19700/4270672494.py:32: FutureWarning: pandas.io.json.json_normalize is deprecated, use pandas.json_normalize instead.\n",
      "  flattendata = json_normalize(data)\n",
      "/var/folders/n5/1wkddp5s2nl935zfz5y7tg480000gn/T/ipykernel_19700/4270672494.py:32: FutureWarning: pandas.io.json.json_normalize is deprecated, use pandas.json_normalize instead.\n",
      "  flattendata = json_normalize(data)\n"
     ]
    },
    {
     "name": "stdout",
     "output_type": "stream",
     "text": [
      "Success! json dataset to convert to csv is embedded in data_info['Result']\n",
      "[{'planning_area': 'Pasir Ris', 'total': 44799, 'below_sgd_1000': 587, 'no_working_person': 3702, 'sgd_10000_over': 0, 'sgd_10000_to_10999': 2230, 'sgd_11000_to_11999': 2017, 'sgd_1000_to_1999': 1198, 'sgd_12000_to_12999': 2104, 'sgd_13000_to_13999': 1608, 'sgd_14000_to_14999': 1643, 'sgd_15000_to_17499': 3415, 'sgd_17500_to_19999': 2434, 'sgd_20000_over': 7885, 'sgd_2000_to_2999': 1408, 'sgd_3000_to_3999': 1691, 'sgd_4000_to_4999': 1768, 'sgd_5000_to_5999': 2318, 'sgd_6000_to_6999': 2078, 'sgd_7000_to_7999': 2281, 'sgd_8000_over': 0, 'sgd_8000_to_8999': 1994, 'sgd_9000_to_9999': 2438, 'year': 2020}]\n"
     ]
    },
    {
     "name": "stderr",
     "output_type": "stream",
     "text": [
      "/var/folders/n5/1wkddp5s2nl935zfz5y7tg480000gn/T/ipykernel_19700/4270672494.py:32: FutureWarning: pandas.io.json.json_normalize is deprecated, use pandas.json_normalize instead.\n",
      "  flattendata = json_normalize(data)\n"
     ]
    },
    {
     "name": "stdout",
     "output_type": "stream",
     "text": [
      "Success! json dataset to convert to csv is embedded in data_info['Result']\n",
      "[{'planning_area': 'Pioneer', 'total': 0, 'below_sgd_1000': 0, 'no_working_person': 0, 'sgd_10000_over': 0, 'sgd_10000_to_10999': 0, 'sgd_11000_to_11999': 0, 'sgd_1000_to_1999': 0, 'sgd_12000_to_12999': 0, 'sgd_13000_to_13999': 0, 'sgd_14000_to_14999': 0, 'sgd_15000_to_17499': 0, 'sgd_17500_to_19999': 0, 'sgd_20000_over': 0, 'sgd_2000_to_2999': 0, 'sgd_3000_to_3999': 0, 'sgd_4000_to_4999': 0, 'sgd_5000_to_5999': 0, 'sgd_6000_to_6999': 0, 'sgd_7000_to_7999': 0, 'sgd_8000_over': 0, 'sgd_8000_to_8999': 0, 'sgd_9000_to_9999': 0, 'year': 2020}]\n",
      "Success! json dataset to convert to csv is embedded in data_info['Result']\n",
      "[{'planning_area': 'Punggol', 'total': 56166, 'below_sgd_1000': 877, 'no_working_person': 3531, 'sgd_10000_over': 0, 'sgd_10000_to_10999': 2952, 'sgd_11000_to_11999': 2623, 'sgd_1000_to_1999': 2397, 'sgd_12000_to_12999': 2474, 'sgd_13000_to_13999': 2252, 'sgd_14000_to_14999': 1764, 'sgd_15000_to_17499': 4089, 'sgd_17500_to_19999': 2858, 'sgd_20000_over': 6077, 'sgd_2000_to_2999': 2418, 'sgd_3000_to_3999': 3108, 'sgd_4000_to_4999': 3060, 'sgd_5000_to_5999': 2987, 'sgd_6000_to_6999': 2975, 'sgd_7000_to_7999': 3280, 'sgd_8000_over': 0, 'sgd_8000_to_8999': 3317, 'sgd_9000_to_9999': 3127, 'year': 2020}]\n"
     ]
    },
    {
     "name": "stderr",
     "output_type": "stream",
     "text": [
      "/var/folders/n5/1wkddp5s2nl935zfz5y7tg480000gn/T/ipykernel_19700/4270672494.py:32: FutureWarning: pandas.io.json.json_normalize is deprecated, use pandas.json_normalize instead.\n",
      "  flattendata = json_normalize(data)\n",
      "/var/folders/n5/1wkddp5s2nl935zfz5y7tg480000gn/T/ipykernel_19700/4270672494.py:32: FutureWarning: pandas.io.json.json_normalize is deprecated, use pandas.json_normalize instead.\n",
      "  flattendata = json_normalize(data)\n"
     ]
    },
    {
     "name": "stdout",
     "output_type": "stream",
     "text": [
      "Success! json dataset to convert to csv is embedded in data_info['Result']\n",
      "[{'planning_area': 'Queenstown', 'total': 37054, 'below_sgd_1000': 774, 'no_working_person': 7776, 'sgd_10000_over': 0, 'sgd_10000_to_10999': 1143, 'sgd_11000_to_11999': 916, 'sgd_1000_to_1999': 2408, 'sgd_12000_to_12999': 1174, 'sgd_13000_to_13999': 933, 'sgd_14000_to_14999': 787, 'sgd_15000_to_17499': 2083, 'sgd_17500_to_19999': 1571, 'sgd_20000_over': 5460, 'sgd_2000_to_2999': 1708, 'sgd_3000_to_3999': 1924, 'sgd_4000_to_4999': 1682, 'sgd_5000_to_5999': 1515, 'sgd_6000_to_6999': 1355, 'sgd_7000_to_7999': 1304, 'sgd_8000_over': 0, 'sgd_8000_to_8999': 1277, 'sgd_9000_to_9999': 1264, 'year': 2020}]\n"
     ]
    },
    {
     "name": "stderr",
     "output_type": "stream",
     "text": [
      "/var/folders/n5/1wkddp5s2nl935zfz5y7tg480000gn/T/ipykernel_19700/4270672494.py:32: FutureWarning: pandas.io.json.json_normalize is deprecated, use pandas.json_normalize instead.\n",
      "  flattendata = json_normalize(data)\n"
     ]
    },
    {
     "name": "stdout",
     "output_type": "stream",
     "text": [
      "Success! json dataset to convert to csv is embedded in data_info['Result']\n",
      "[{'planning_area': 'Sembawang', 'total': 33051, 'below_sgd_1000': 586, 'no_working_person': 2716, 'sgd_10000_over': 0, 'sgd_10000_to_10999': 1645, 'sgd_11000_to_11999': 1397, 'sgd_1000_to_1999': 1395, 'sgd_12000_to_12999': 1237, 'sgd_13000_to_13999': 1310, 'sgd_14000_to_14999': 1190, 'sgd_15000_to_17499': 1866, 'sgd_17500_to_19999': 1511, 'sgd_20000_over': 2847, 'sgd_2000_to_2999': 1695, 'sgd_3000_to_3999': 2066, 'sgd_4000_to_4999': 1979, 'sgd_5000_to_5999': 2090, 'sgd_6000_to_6999': 1931, 'sgd_7000_to_7999': 1925, 'sgd_8000_over': 0, 'sgd_8000_to_8999': 1882, 'sgd_9000_to_9999': 1783, 'year': 2020}]\n"
     ]
    },
    {
     "name": "stderr",
     "output_type": "stream",
     "text": [
      "/var/folders/n5/1wkddp5s2nl935zfz5y7tg480000gn/T/ipykernel_19700/4270672494.py:32: FutureWarning: pandas.io.json.json_normalize is deprecated, use pandas.json_normalize instead.\n",
      "  flattendata = json_normalize(data)\n"
     ]
    },
    {
     "name": "stdout",
     "output_type": "stream",
     "text": [
      "Success! json dataset to convert to csv is embedded in data_info['Result']\n",
      "[{'planning_area': 'Simpang', 'total': 0, 'below_sgd_1000': 0, 'no_working_person': 0, 'sgd_10000_over': 0, 'sgd_10000_to_10999': 0, 'sgd_11000_to_11999': 0, 'sgd_1000_to_1999': 0, 'sgd_12000_to_12999': 0, 'sgd_13000_to_13999': 0, 'sgd_14000_to_14999': 0, 'sgd_15000_to_17499': 0, 'sgd_17500_to_19999': 0, 'sgd_20000_over': 0, 'sgd_2000_to_2999': 0, 'sgd_3000_to_3999': 0, 'sgd_4000_to_4999': 0, 'sgd_5000_to_5999': 0, 'sgd_6000_to_6999': 0, 'sgd_7000_to_7999': 0, 'sgd_8000_over': 0, 'sgd_8000_to_8999': 0, 'sgd_9000_to_9999': 0, 'year': 2020}]\n",
      "Success! json dataset to convert to csv is embedded in data_info['Result']\n",
      "[{'planning_area': 'Tampines', 'total': 83682, 'below_sgd_1000': 1389, 'no_working_person': 9631, 'sgd_10000_over': 0, 'sgd_10000_to_10999': 3947, 'sgd_11000_to_11999': 3380, 'sgd_1000_to_1999': 4043, 'sgd_12000_to_12999': 2975, 'sgd_13000_to_13999': 2903, 'sgd_14000_to_14999': 2311, 'sgd_15000_to_17499': 5373, 'sgd_17500_to_19999': 3672, 'sgd_20000_over': 9644, 'sgd_2000_to_2999': 3892, 'sgd_3000_to_3999': 4610, 'sgd_4000_to_4999': 4472, 'sgd_5000_to_5999': 4592, 'sgd_6000_to_6999': 4362, 'sgd_7000_to_7999': 4646, 'sgd_8000_over': 0, 'sgd_8000_to_8999': 3802, 'sgd_9000_to_9999': 4038, 'year': 2020}]\n"
     ]
    },
    {
     "name": "stderr",
     "output_type": "stream",
     "text": [
      "/var/folders/n5/1wkddp5s2nl935zfz5y7tg480000gn/T/ipykernel_19700/4270672494.py:32: FutureWarning: pandas.io.json.json_normalize is deprecated, use pandas.json_normalize instead.\n",
      "  flattendata = json_normalize(data)\n",
      "/var/folders/n5/1wkddp5s2nl935zfz5y7tg480000gn/T/ipykernel_19700/4270672494.py:32: FutureWarning: pandas.io.json.json_normalize is deprecated, use pandas.json_normalize instead.\n",
      "  flattendata = json_normalize(data)\n"
     ]
    },
    {
     "name": "stdout",
     "output_type": "stream",
     "text": [
      "Success! json dataset to convert to csv is embedded in data_info['Result']\n",
      "[{'planning_area': 'Tanglin', 'total': 7937, 'below_sgd_1000': 71, 'no_working_person': 1210, 'sgd_10000_over': 0, 'sgd_10000_to_10999': 186, 'sgd_11000_to_11999': 129, 'sgd_1000_to_1999': 84, 'sgd_12000_to_12999': 154, 'sgd_13000_to_13999': 146, 'sgd_14000_to_14999': 102, 'sgd_15000_to_17499': 356, 'sgd_17500_to_19999': 397, 'sgd_20000_over': 3977, 'sgd_2000_to_2999': 104, 'sgd_3000_to_3999': 132, 'sgd_4000_to_4999': 127, 'sgd_5000_to_5999': 191, 'sgd_6000_to_6999': 109, 'sgd_7000_to_7999': 155, 'sgd_8000_over': 0, 'sgd_8000_to_8999': 185, 'sgd_9000_to_9999': 122, 'year': 2020}]\n",
      "Success! json dataset to convert to csv is embedded in data_info['Result']\n",
      "[{'planning_area': 'Tuas', 'total': 0, 'below_sgd_1000': 0, 'no_working_person': 0, 'sgd_10000_over': 0, 'sgd_10000_to_10999': 0, 'sgd_11000_to_11999': 0, 'sgd_1000_to_1999': 0, 'sgd_12000_to_12999': 0, 'sgd_13000_to_13999': 0, 'sgd_14000_to_14999': 0, 'sgd_15000_to_17499': 0, 'sgd_17500_to_19999': 0, 'sgd_20000_over': 0, 'sgd_2000_to_2999': 0, 'sgd_3000_to_3999': 0, 'sgd_4000_to_4999': 0, 'sgd_5000_to_5999': 0, 'sgd_6000_to_6999': 0, 'sgd_7000_to_7999': 0, 'sgd_8000_over': 0, 'sgd_8000_to_8999': 0, 'sgd_9000_to_9999': 0, 'year': 2020}]\n"
     ]
    },
    {
     "name": "stderr",
     "output_type": "stream",
     "text": [
      "/var/folders/n5/1wkddp5s2nl935zfz5y7tg480000gn/T/ipykernel_19700/4270672494.py:32: FutureWarning: pandas.io.json.json_normalize is deprecated, use pandas.json_normalize instead.\n",
      "  flattendata = json_normalize(data)\n",
      "/var/folders/n5/1wkddp5s2nl935zfz5y7tg480000gn/T/ipykernel_19700/4270672494.py:32: FutureWarning: pandas.io.json.json_normalize is deprecated, use pandas.json_normalize instead.\n",
      "  flattendata = json_normalize(data)\n"
     ]
    },
    {
     "name": "stdout",
     "output_type": "stream",
     "text": [
      "Success! json dataset to convert to csv is embedded in data_info['Result']\n",
      "[{'planning_area': 'Western Islands', 'total': 0, 'below_sgd_1000': 0, 'no_working_person': 0, 'sgd_10000_over': 0, 'sgd_10000_to_10999': 0, 'sgd_11000_to_11999': 0, 'sgd_1000_to_1999': 0, 'sgd_12000_to_12999': 0, 'sgd_13000_to_13999': 0, 'sgd_14000_to_14999': 0, 'sgd_15000_to_17499': 0, 'sgd_17500_to_19999': 0, 'sgd_20000_over': 0, 'sgd_2000_to_2999': 0, 'sgd_3000_to_3999': 0, 'sgd_4000_to_4999': 0, 'sgd_5000_to_5999': 0, 'sgd_6000_to_6999': 0, 'sgd_7000_to_7999': 0, 'sgd_8000_over': 0, 'sgd_8000_to_8999': 0, 'sgd_9000_to_9999': 0, 'year': 2020}]\n"
     ]
    },
    {
     "name": "stderr",
     "output_type": "stream",
     "text": [
      "/var/folders/n5/1wkddp5s2nl935zfz5y7tg480000gn/T/ipykernel_19700/4270672494.py:32: FutureWarning: pandas.io.json.json_normalize is deprecated, use pandas.json_normalize instead.\n",
      "  flattendata = json_normalize(data)\n"
     ]
    },
    {
     "name": "stdout",
     "output_type": "stream",
     "text": [
      "Success! json dataset to convert to csv is embedded in data_info['Result']\n",
      "[{'planning_area': 'Southern Islands', 'total': 0, 'below_sgd_1000': 0, 'no_working_person': 0, 'sgd_10000_over': 0, 'sgd_10000_to_10999': 0, 'sgd_11000_to_11999': 0, 'sgd_1000_to_1999': 0, 'sgd_12000_to_12999': 0, 'sgd_13000_to_13999': 0, 'sgd_14000_to_14999': 0, 'sgd_15000_to_17499': 0, 'sgd_17500_to_19999': 0, 'sgd_20000_over': 0, 'sgd_2000_to_2999': 0, 'sgd_3000_to_3999': 0, 'sgd_4000_to_4999': 0, 'sgd_5000_to_5999': 0, 'sgd_6000_to_6999': 0, 'sgd_7000_to_7999': 0, 'sgd_8000_over': 0, 'sgd_8000_to_8999': 0, 'sgd_9000_to_9999': 0, 'year': 2020}]\n"
     ]
    },
    {
     "name": "stderr",
     "output_type": "stream",
     "text": [
      "/var/folders/n5/1wkddp5s2nl935zfz5y7tg480000gn/T/ipykernel_19700/4270672494.py:32: FutureWarning: pandas.io.json.json_normalize is deprecated, use pandas.json_normalize instead.\n",
      "  flattendata = json_normalize(data)\n"
     ]
    },
    {
     "name": "stdout",
     "output_type": "stream",
     "text": [
      "Success! json dataset to convert to csv is embedded in data_info['Result']\n",
      "[{'planning_area': 'Bukit Panjang', 'total': 43579, 'below_sgd_1000': 665, 'no_working_person': 4389, 'sgd_10000_over': 0, 'sgd_10000_to_10999': 1746, 'sgd_11000_to_11999': 1656, 'sgd_1000_to_1999': 1665, 'sgd_12000_to_12999': 1710, 'sgd_13000_to_13999': 1110, 'sgd_14000_to_14999': 1146, 'sgd_15000_to_17499': 2583, 'sgd_17500_to_19999': 1891, 'sgd_20000_over': 5359, 'sgd_2000_to_2999': 2411, 'sgd_3000_to_3999': 2561, 'sgd_4000_to_4999': 2495, 'sgd_5000_to_5999': 2635, 'sgd_6000_to_6999': 2552, 'sgd_7000_to_7999': 2450, 'sgd_8000_over': 0, 'sgd_8000_to_8999': 2544, 'sgd_9000_to_9999': 2011, 'year': 2020}]\n",
      "Success! json dataset to convert to csv is embedded in data_info['Result']\n",
      "[{'planning_area': 'Bishan', 'total': 29444, 'below_sgd_1000': 508, 'no_working_person': 4412, 'sgd_10000_over': 0, 'sgd_10000_to_10999': 903, 'sgd_11000_to_11999': 983, 'sgd_1000_to_1999': 983, 'sgd_12000_to_12999': 900, 'sgd_13000_to_13999': 854, 'sgd_14000_to_14999': 805, 'sgd_15000_to_17499': 1801, 'sgd_17500_to_19999': 1589, 'sgd_20000_over': 6864, 'sgd_2000_to_2999': 910, 'sgd_3000_to_3999': 1252, 'sgd_4000_to_4999': 996, 'sgd_5000_to_5999': 1225, 'sgd_6000_to_6999': 1307, 'sgd_7000_to_7999': 1078, 'sgd_8000_over': 0, 'sgd_8000_to_8999': 1060, 'sgd_9000_to_9999': 1014, 'year': 2020}]\n",
      "Success! json dataset to convert to csv is embedded in data_info['Result']\n",
      "[{'planning_area': 'Ang Mo Kio', 'total': 60218, 'below_sgd_1000': 1563, 'no_working_person': 11455, 'sgd_10000_over': 0, 'sgd_10000_to_10999': 1947, 'sgd_11000_to_11999': 1795, 'sgd_1000_to_1999': 4228, 'sgd_12000_to_12999': 1363, 'sgd_13000_to_13999': 1425, 'sgd_14000_to_14999': 1156, 'sgd_15000_to_17499': 2661, 'sgd_17500_to_19999': 1841, 'sgd_20000_over': 6466, 'sgd_2000_to_2999': 3572, 'sgd_3000_to_3999': 4020, 'sgd_4000_to_4999': 3381, 'sgd_5000_to_5999': 3134, 'sgd_6000_to_6999': 2943, 'sgd_7000_to_7999': 2672, 'sgd_8000_over': 0, 'sgd_8000_to_8999': 2210, 'sgd_9000_to_9999': 2386, 'year': 2020}]\n"
     ]
    },
    {
     "name": "stderr",
     "output_type": "stream",
     "text": [
      "/var/folders/n5/1wkddp5s2nl935zfz5y7tg480000gn/T/ipykernel_19700/4270672494.py:32: FutureWarning: pandas.io.json.json_normalize is deprecated, use pandas.json_normalize instead.\n",
      "  flattendata = json_normalize(data)\n",
      "/var/folders/n5/1wkddp5s2nl935zfz5y7tg480000gn/T/ipykernel_19700/4270672494.py:32: FutureWarning: pandas.io.json.json_normalize is deprecated, use pandas.json_normalize instead.\n",
      "  flattendata = json_normalize(data)\n",
      "/var/folders/n5/1wkddp5s2nl935zfz5y7tg480000gn/T/ipykernel_19700/4270672494.py:32: FutureWarning: pandas.io.json.json_normalize is deprecated, use pandas.json_normalize instead.\n",
      "  flattendata = json_normalize(data)\n"
     ]
    },
    {
     "name": "stdout",
     "output_type": "stream",
     "text": [
      "Success! json dataset to convert to csv is embedded in data_info['Result']\n",
      "[{'planning_area': 'Geylang', 'total': 42061, 'below_sgd_1000': 1030, 'no_working_person': 6991, 'sgd_10000_over': 0, 'sgd_10000_to_10999': 1561, 'sgd_11000_to_11999': 1397, 'sgd_1000_to_1999': 2826, 'sgd_12000_to_12999': 1057, 'sgd_13000_to_13999': 954, 'sgd_14000_to_14999': 912, 'sgd_15000_to_17499': 1755, 'sgd_17500_to_19999': 1334, 'sgd_20000_over': 4917, 'sgd_2000_to_2999': 2860, 'sgd_3000_to_3999': 2661, 'sgd_4000_to_4999': 2383, 'sgd_5000_to_5999': 2385, 'sgd_6000_to_6999': 2127, 'sgd_7000_to_7999': 1635, 'sgd_8000_over': 0, 'sgd_8000_to_8999': 1622, 'sgd_9000_to_9999': 1654, 'year': 2020}]\n",
      "Success! json dataset to convert to csv is embedded in data_info['Result']\n",
      "[{'planning_area': 'Straits View', 'total': 0, 'below_sgd_1000': 0, 'no_working_person': 0, 'sgd_10000_over': 0, 'sgd_10000_to_10999': 0, 'sgd_11000_to_11999': 0, 'sgd_1000_to_1999': 0, 'sgd_12000_to_12999': 0, 'sgd_13000_to_13999': 0, 'sgd_14000_to_14999': 0, 'sgd_15000_to_17499': 0, 'sgd_17500_to_19999': 0, 'sgd_20000_over': 0, 'sgd_2000_to_2999': 0, 'sgd_3000_to_3999': 0, 'sgd_4000_to_4999': 0, 'sgd_5000_to_5999': 0, 'sgd_6000_to_6999': 0, 'sgd_7000_to_7999': 0, 'sgd_8000_over': 0, 'sgd_8000_to_8999': 0, 'sgd_9000_to_9999': 0, 'year': 2020}]\n",
      "Success! json dataset to convert to csv is embedded in data_info['Result']\n",
      "[{'planning_area': 'Jurong East', 'total': 27214, 'below_sgd_1000': 550, 'no_working_person': 4256, 'sgd_10000_over': 0, 'sgd_10000_to_10999': 997, 'sgd_11000_to_11999': 922, 'sgd_1000_to_1999': 1642, 'sgd_12000_to_12999': 818, 'sgd_13000_to_13999': 706, 'sgd_14000_to_14999': 559, 'sgd_15000_to_17499': 1416, 'sgd_17500_to_19999': 988, 'sgd_20000_over': 2602, 'sgd_2000_to_2999': 1309, 'sgd_3000_to_3999': 1761, 'sgd_4000_to_4999': 1636, 'sgd_5000_to_5999': 1718, 'sgd_6000_to_6999': 1615, 'sgd_7000_to_7999': 1422, 'sgd_8000_over': 0, 'sgd_8000_to_8999': 1188, 'sgd_9000_to_9999': 1109, 'year': 2020}]\n"
     ]
    },
    {
     "name": "stderr",
     "output_type": "stream",
     "text": [
      "/var/folders/n5/1wkddp5s2nl935zfz5y7tg480000gn/T/ipykernel_19700/4270672494.py:32: FutureWarning: pandas.io.json.json_normalize is deprecated, use pandas.json_normalize instead.\n",
      "  flattendata = json_normalize(data)\n",
      "/var/folders/n5/1wkddp5s2nl935zfz5y7tg480000gn/T/ipykernel_19700/4270672494.py:32: FutureWarning: pandas.io.json.json_normalize is deprecated, use pandas.json_normalize instead.\n",
      "  flattendata = json_normalize(data)\n",
      "/var/folders/n5/1wkddp5s2nl935zfz5y7tg480000gn/T/ipykernel_19700/4270672494.py:32: FutureWarning: pandas.io.json.json_normalize is deprecated, use pandas.json_normalize instead.\n",
      "  flattendata = json_normalize(data)\n"
     ]
    },
    {
     "name": "stdout",
     "output_type": "stream",
     "text": [
      "Success! json dataset to convert to csv is embedded in data_info['Result']\n",
      "[{'planning_area': 'Hougang', 'total': 75111, 'below_sgd_1000': 1475, 'no_working_person': 8503, 'sgd_10000_over': 0, 'sgd_10000_to_10999': 3067, 'sgd_11000_to_11999': 2344, 'sgd_1000_to_1999': 4008, 'sgd_12000_to_12999': 2534, 'sgd_13000_to_13999': 2497, 'sgd_14000_to_14999': 2119, 'sgd_15000_to_17499': 3973, 'sgd_17500_to_19999': 3048, 'sgd_20000_over': 9562, 'sgd_2000_to_2999': 4473, 'sgd_3000_to_3999': 4275, 'sgd_4000_to_4999': 4054, 'sgd_5000_to_5999': 4157, 'sgd_6000_to_6999': 3956, 'sgd_7000_to_7999': 3450, 'sgd_8000_over': 0, 'sgd_8000_to_8999': 4098, 'sgd_9000_to_9999': 3518, 'year': 2020}]\n"
     ]
    },
    {
     "name": "stderr",
     "output_type": "stream",
     "text": [
      "/var/folders/n5/1wkddp5s2nl935zfz5y7tg480000gn/T/ipykernel_19700/4270672494.py:32: FutureWarning: pandas.io.json.json_normalize is deprecated, use pandas.json_normalize instead.\n",
      "  flattendata = json_normalize(data)\n"
     ]
    },
    {
     "name": "stdout",
     "output_type": "stream",
     "text": [
      "Success! json dataset to convert to csv is embedded in data_info['Result']\n",
      "[{'planning_area': 'Jurong West', 'total': 83877, 'below_sgd_1000': 1399, 'no_working_person': 8069, 'sgd_10000_over': 0, 'sgd_10000_to_10999': 4077, 'sgd_11000_to_11999': 3456, 'sgd_1000_to_1999': 4460, 'sgd_12000_to_12999': 3257, 'sgd_13000_to_13999': 3037, 'sgd_14000_to_14999': 2512, 'sgd_15000_to_17499': 5049, 'sgd_17500_to_19999': 3007, 'sgd_20000_over': 6910, 'sgd_2000_to_2999': 4060, 'sgd_3000_to_3999': 4636, 'sgd_4000_to_4999': 5286, 'sgd_5000_to_5999': 5308, 'sgd_6000_to_6999': 5368, 'sgd_7000_to_7999': 4806, 'sgd_8000_over': 0, 'sgd_8000_to_8999': 4739, 'sgd_9000_to_9999': 4441, 'year': 2020}]\n",
      "Success! json dataset to convert to csv is embedded in data_info['Result']\n",
      "[{'planning_area': 'Choa Chu Kang', 'total': 58024, 'below_sgd_1000': 904, 'no_working_person': 4463, 'sgd_10000_over': 0, 'sgd_10000_to_10999': 2833, 'sgd_11000_to_11999': 2619, 'sgd_1000_to_1999': 2054, 'sgd_12000_to_12999': 2115, 'sgd_13000_to_13999': 2074, 'sgd_14000_to_14999': 2167, 'sgd_15000_to_17499': 4026, 'sgd_17500_to_19999': 2924, 'sgd_20000_over': 6563, 'sgd_2000_to_2999': 2776, 'sgd_3000_to_3999': 2884, 'sgd_4000_to_4999': 3058, 'sgd_5000_to_5999': 3335, 'sgd_6000_to_6999': 3337, 'sgd_7000_to_7999': 3499, 'sgd_8000_over': 0, 'sgd_8000_to_8999': 3311, 'sgd_9000_to_9999': 3082, 'year': 2020}]\n"
     ]
    },
    {
     "name": "stderr",
     "output_type": "stream",
     "text": [
      "/var/folders/n5/1wkddp5s2nl935zfz5y7tg480000gn/T/ipykernel_19700/4270672494.py:32: FutureWarning: pandas.io.json.json_normalize is deprecated, use pandas.json_normalize instead.\n",
      "  flattendata = json_normalize(data)\n",
      "/var/folders/n5/1wkddp5s2nl935zfz5y7tg480000gn/T/ipykernel_19700/4270672494.py:32: FutureWarning: pandas.io.json.json_normalize is deprecated, use pandas.json_normalize instead.\n",
      "  flattendata = json_normalize(data)\n"
     ]
    },
    {
     "name": "stdout",
     "output_type": "stream",
     "text": [
      "Success! json dataset to convert to csv is embedded in data_info['Result']\n",
      "[{'planning_area': 'Kallang', 'total': 40834, 'below_sgd_1000': 1355, 'no_working_person': 8433, 'sgd_10000_over': 0, 'sgd_10000_to_10999': 1394, 'sgd_11000_to_11999': 1112, 'sgd_1000_to_1999': 3127, 'sgd_12000_to_12999': 1205, 'sgd_13000_to_13999': 917, 'sgd_14000_to_14999': 768, 'sgd_15000_to_17499': 1833, 'sgd_17500_to_19999': 1452, 'sgd_20000_over': 5442, 'sgd_2000_to_2999': 2379, 'sgd_3000_to_3999': 2051, 'sgd_4000_to_4999': 1925, 'sgd_5000_to_5999': 1769, 'sgd_6000_to_6999': 1554, 'sgd_7000_to_7999': 1436, 'sgd_8000_over': 0, 'sgd_8000_to_8999': 1325, 'sgd_9000_to_9999': 1357, 'year': 2020}]\n",
      "Success! json dataset to convert to csv is embedded in data_info['Result']\n",
      "[{'planning_area': 'Mandai', 'total': 0, 'below_sgd_1000': 0, 'no_working_person': 0, 'sgd_10000_over': 0, 'sgd_10000_to_10999': 0, 'sgd_11000_to_11999': 0, 'sgd_1000_to_1999': 0, 'sgd_12000_to_12999': 0, 'sgd_13000_to_13999': 0, 'sgd_14000_to_14999': 0, 'sgd_15000_to_17499': 0, 'sgd_17500_to_19999': 0, 'sgd_20000_over': 0, 'sgd_2000_to_2999': 0, 'sgd_3000_to_3999': 0, 'sgd_4000_to_4999': 0, 'sgd_5000_to_5999': 0, 'sgd_6000_to_6999': 0, 'sgd_7000_to_7999': 0, 'sgd_8000_over': 0, 'sgd_8000_to_8999': 0, 'sgd_9000_to_9999': 0, 'year': 2020}]\n"
     ]
    },
    {
     "name": "stderr",
     "output_type": "stream",
     "text": [
      "/var/folders/n5/1wkddp5s2nl935zfz5y7tg480000gn/T/ipykernel_19700/4270672494.py:32: FutureWarning: pandas.io.json.json_normalize is deprecated, use pandas.json_normalize instead.\n",
      "  flattendata = json_normalize(data)\n",
      "/var/folders/n5/1wkddp5s2nl935zfz5y7tg480000gn/T/ipykernel_19700/4270672494.py:32: FutureWarning: pandas.io.json.json_normalize is deprecated, use pandas.json_normalize instead.\n",
      "  flattendata = json_normalize(data)\n"
     ]
    },
    {
     "name": "stdout",
     "output_type": "stream",
     "text": [
      "Success! json dataset to convert to csv is embedded in data_info['Result']\n",
      "[{'planning_area': 'Tengah', 'total': 0, 'below_sgd_1000': 0, 'no_working_person': 0, 'sgd_10000_over': 0, 'sgd_10000_to_10999': 0, 'sgd_11000_to_11999': 0, 'sgd_1000_to_1999': 0, 'sgd_12000_to_12999': 0, 'sgd_13000_to_13999': 0, 'sgd_14000_to_14999': 0, 'sgd_15000_to_17499': 0, 'sgd_17500_to_19999': 0, 'sgd_20000_over': 0, 'sgd_2000_to_2999': 0, 'sgd_3000_to_3999': 0, 'sgd_4000_to_4999': 0, 'sgd_5000_to_5999': 0, 'sgd_6000_to_6999': 0, 'sgd_7000_to_7999': 0, 'sgd_8000_over': 0, 'sgd_8000_to_8999': 0, 'sgd_9000_to_9999': 0, 'year': 2020}]\n"
     ]
    },
    {
     "name": "stderr",
     "output_type": "stream",
     "text": [
      "/var/folders/n5/1wkddp5s2nl935zfz5y7tg480000gn/T/ipykernel_19700/4270672494.py:32: FutureWarning: pandas.io.json.json_normalize is deprecated, use pandas.json_normalize instead.\n",
      "  flattendata = json_normalize(data)\n"
     ]
    },
    {
     "name": "stdout",
     "output_type": "stream",
     "text": [
      "Success! json dataset to convert to csv is embedded in data_info['Result']\n",
      "[{'planning_area': 'Marina East', 'total': 0, 'below_sgd_1000': 0, 'no_working_person': 0, 'sgd_10000_over': 0, 'sgd_10000_to_10999': 0, 'sgd_11000_to_11999': 0, 'sgd_1000_to_1999': 0, 'sgd_12000_to_12999': 0, 'sgd_13000_to_13999': 0, 'sgd_14000_to_14999': 0, 'sgd_15000_to_17499': 0, 'sgd_17500_to_19999': 0, 'sgd_20000_over': 0, 'sgd_2000_to_2999': 0, 'sgd_3000_to_3999': 0, 'sgd_4000_to_4999': 0, 'sgd_5000_to_5999': 0, 'sgd_6000_to_6999': 0, 'sgd_7000_to_7999': 0, 'sgd_8000_over': 0, 'sgd_8000_to_8999': 0, 'sgd_9000_to_9999': 0, 'year': 2020}]\n"
     ]
    },
    {
     "name": "stderr",
     "output_type": "stream",
     "text": [
      "/var/folders/n5/1wkddp5s2nl935zfz5y7tg480000gn/T/ipykernel_19700/4270672494.py:32: FutureWarning: pandas.io.json.json_normalize is deprecated, use pandas.json_normalize instead.\n",
      "  flattendata = json_normalize(data)\n"
     ]
    },
    {
     "name": "stdout",
     "output_type": "stream",
     "text": [
      "Success! json dataset to convert to csv is embedded in data_info['Result']\n",
      "[{'planning_area': 'Marina South', 'total': 0, 'below_sgd_1000': 0, 'no_working_person': 0, 'sgd_10000_over': 0, 'sgd_10000_to_10999': 0, 'sgd_11000_to_11999': 0, 'sgd_1000_to_1999': 0, 'sgd_12000_to_12999': 0, 'sgd_13000_to_13999': 0, 'sgd_14000_to_14999': 0, 'sgd_15000_to_17499': 0, 'sgd_17500_to_19999': 0, 'sgd_20000_over': 0, 'sgd_2000_to_2999': 0, 'sgd_3000_to_3999': 0, 'sgd_4000_to_4999': 0, 'sgd_5000_to_5999': 0, 'sgd_6000_to_6999': 0, 'sgd_7000_to_7999': 0, 'sgd_8000_over': 0, 'sgd_8000_to_8999': 0, 'sgd_9000_to_9999': 0, 'year': 2020}]\n"
     ]
    },
    {
     "name": "stderr",
     "output_type": "stream",
     "text": [
      "/var/folders/n5/1wkddp5s2nl935zfz5y7tg480000gn/T/ipykernel_19700/4270672494.py:32: FutureWarning: pandas.io.json.json_normalize is deprecated, use pandas.json_normalize instead.\n",
      "  flattendata = json_normalize(data)\n"
     ]
    },
    {
     "name": "stdout",
     "output_type": "stream",
     "text": [
      "Success! json dataset to convert to csv is embedded in data_info['Result']\n",
      "[{'planning_area': 'Museum', 'total': 0, 'below_sgd_1000': 0, 'no_working_person': 0, 'sgd_10000_over': 0, 'sgd_10000_to_10999': 0, 'sgd_11000_to_11999': 0, 'sgd_1000_to_1999': 0, 'sgd_12000_to_12999': 0, 'sgd_13000_to_13999': 0, 'sgd_14000_to_14999': 0, 'sgd_15000_to_17499': 0, 'sgd_17500_to_19999': 0, 'sgd_20000_over': 0, 'sgd_2000_to_2999': 0, 'sgd_3000_to_3999': 0, 'sgd_4000_to_4999': 0, 'sgd_5000_to_5999': 0, 'sgd_6000_to_6999': 0, 'sgd_7000_to_7999': 0, 'sgd_8000_over': 0, 'sgd_8000_to_8999': 0, 'sgd_9000_to_9999': 0, 'year': 2020}]\n",
      "Success! json dataset to convert to csv is embedded in data_info['Result']\n",
      "[{'planning_area': 'Novena', 'total': 18283, 'below_sgd_1000': 397, 'no_working_person': 2848, 'sgd_10000_over': 0, 'sgd_10000_to_10999': 551, 'sgd_11000_to_11999': 497, 'sgd_1000_to_1999': 792, 'sgd_12000_to_12999': 417, 'sgd_13000_to_13999': 389, 'sgd_14000_to_14999': 310, 'sgd_15000_to_17499': 840, 'sgd_17500_to_19999': 704, 'sgd_20000_over': 5010, 'sgd_2000_to_2999': 851, 'sgd_3000_to_3999': 772, 'sgd_4000_to_4999': 726, 'sgd_5000_to_5999': 721, 'sgd_6000_to_6999': 580, 'sgd_7000_to_7999': 581, 'sgd_8000_over': 0, 'sgd_8000_to_8999': 743, 'sgd_9000_to_9999': 554, 'year': 2020}]\n"
     ]
    },
    {
     "name": "stderr",
     "output_type": "stream",
     "text": [
      "/var/folders/n5/1wkddp5s2nl935zfz5y7tg480000gn/T/ipykernel_19700/4270672494.py:32: FutureWarning: pandas.io.json.json_normalize is deprecated, use pandas.json_normalize instead.\n",
      "  flattendata = json_normalize(data)\n",
      "/var/folders/n5/1wkddp5s2nl935zfz5y7tg480000gn/T/ipykernel_19700/4270672494.py:32: FutureWarning: pandas.io.json.json_normalize is deprecated, use pandas.json_normalize instead.\n",
      "  flattendata = json_normalize(data)\n"
     ]
    },
    {
     "name": "stdout",
     "output_type": "stream",
     "text": [
      "Success! json dataset to convert to csv is embedded in data_info['Result']\n",
      "[{'planning_area': 'Outram', 'total': 8053, 'below_sgd_1000': 393, 'no_working_person': 2194, 'sgd_10000_over': 0, 'sgd_10000_to_10999': 205, 'sgd_11000_to_11999': 146, 'sgd_1000_to_1999': 813, 'sgd_12000_to_12999': 218, 'sgd_13000_to_13999': 145, 'sgd_14000_to_14999': 150, 'sgd_15000_to_17499': 326, 'sgd_17500_to_19999': 211, 'sgd_20000_over': 868, 'sgd_2000_to_2999': 504, 'sgd_3000_to_3999': 392, 'sgd_4000_to_4999': 283, 'sgd_5000_to_5999': 336, 'sgd_6000_to_6999': 201, 'sgd_7000_to_7999': 245, 'sgd_8000_over': 0, 'sgd_8000_to_8999': 210, 'sgd_9000_to_9999': 213, 'year': 2020}]\n",
      "Success! json dataset to convert to csv is embedded in data_info['Result']\n",
      "[{'planning_area': 'Paya Lebar', 'total': 0, 'below_sgd_1000': 0, 'no_working_person': 0, 'sgd_10000_over': 0, 'sgd_10000_to_10999': 0, 'sgd_11000_to_11999': 0, 'sgd_1000_to_1999': 0, 'sgd_12000_to_12999': 0, 'sgd_13000_to_13999': 0, 'sgd_14000_to_14999': 0, 'sgd_15000_to_17499': 0, 'sgd_17500_to_19999': 0, 'sgd_20000_over': 0, 'sgd_2000_to_2999': 0, 'sgd_3000_to_3999': 0, 'sgd_4000_to_4999': 0, 'sgd_5000_to_5999': 0, 'sgd_6000_to_6999': 0, 'sgd_7000_to_7999': 0, 'sgd_8000_over': 0, 'sgd_8000_to_8999': 0, 'sgd_9000_to_9999': 0, 'year': 2020}]\n"
     ]
    },
    {
     "name": "stderr",
     "output_type": "stream",
     "text": [
      "/var/folders/n5/1wkddp5s2nl935zfz5y7tg480000gn/T/ipykernel_19700/4270672494.py:32: FutureWarning: pandas.io.json.json_normalize is deprecated, use pandas.json_normalize instead.\n",
      "  flattendata = json_normalize(data)\n",
      "/var/folders/n5/1wkddp5s2nl935zfz5y7tg480000gn/T/ipykernel_19700/4270672494.py:32: FutureWarning: pandas.io.json.json_normalize is deprecated, use pandas.json_normalize instead.\n",
      "  flattendata = json_normalize(data)\n"
     ]
    },
    {
     "name": "stdout",
     "output_type": "stream",
     "text": [
      "Success! json dataset to convert to csv is embedded in data_info['Result']\n",
      "[{'planning_area': 'River Valley', 'total': 3977, 'below_sgd_1000': 27, 'no_working_person': 574, 'sgd_10000_over': 0, 'sgd_10000_to_10999': 74, 'sgd_11000_to_11999': 92, 'sgd_1000_to_1999': 80, 'sgd_12000_to_12999': 79, 'sgd_13000_to_13999': 59, 'sgd_14000_to_14999': 85, 'sgd_15000_to_17499': 195, 'sgd_17500_to_19999': 197, 'sgd_20000_over': 1860, 'sgd_2000_to_2999': 75, 'sgd_3000_to_3999': 102, 'sgd_4000_to_4999': 54, 'sgd_5000_to_5999': 80, 'sgd_6000_to_6999': 90, 'sgd_7000_to_7999': 92, 'sgd_8000_over': 0, 'sgd_8000_to_8999': 87, 'sgd_9000_to_9999': 75, 'year': 2020}]\n",
      "Success! json dataset to convert to csv is embedded in data_info['Result']\n",
      "[{'planning_area': 'Rochor', 'total': 0, 'below_sgd_1000': 0, 'no_working_person': 0, 'sgd_10000_over': 0, 'sgd_10000_to_10999': 0, 'sgd_11000_to_11999': 0, 'sgd_1000_to_1999': 0, 'sgd_12000_to_12999': 0, 'sgd_13000_to_13999': 0, 'sgd_14000_to_14999': 0, 'sgd_15000_to_17499': 0, 'sgd_17500_to_19999': 0, 'sgd_20000_over': 0, 'sgd_2000_to_2999': 0, 'sgd_3000_to_3999': 0, 'sgd_4000_to_4999': 0, 'sgd_5000_to_5999': 0, 'sgd_6000_to_6999': 0, 'sgd_7000_to_7999': 0, 'sgd_8000_over': 0, 'sgd_8000_to_8999': 0, 'sgd_9000_to_9999': 0, 'year': 2020}]\n"
     ]
    },
    {
     "name": "stderr",
     "output_type": "stream",
     "text": [
      "/var/folders/n5/1wkddp5s2nl935zfz5y7tg480000gn/T/ipykernel_19700/4270672494.py:32: FutureWarning: pandas.io.json.json_normalize is deprecated, use pandas.json_normalize instead.\n",
      "  flattendata = json_normalize(data)\n",
      "/var/folders/n5/1wkddp5s2nl935zfz5y7tg480000gn/T/ipykernel_19700/4270672494.py:32: FutureWarning: pandas.io.json.json_normalize is deprecated, use pandas.json_normalize instead.\n",
      "  flattendata = json_normalize(data)\n"
     ]
    },
    {
     "name": "stdout",
     "output_type": "stream",
     "text": [
      "Success! json dataset to convert to csv is embedded in data_info['Result']\n",
      "[{'planning_area': 'Seletar', 'total': 0, 'below_sgd_1000': 0, 'no_working_person': 0, 'sgd_10000_over': 0, 'sgd_10000_to_10999': 0, 'sgd_11000_to_11999': 0, 'sgd_1000_to_1999': 0, 'sgd_12000_to_12999': 0, 'sgd_13000_to_13999': 0, 'sgd_14000_to_14999': 0, 'sgd_15000_to_17499': 0, 'sgd_17500_to_19999': 0, 'sgd_20000_over': 0, 'sgd_2000_to_2999': 0, 'sgd_3000_to_3999': 0, 'sgd_4000_to_4999': 0, 'sgd_5000_to_5999': 0, 'sgd_6000_to_6999': 0, 'sgd_7000_to_7999': 0, 'sgd_8000_over': 0, 'sgd_8000_to_8999': 0, 'sgd_9000_to_9999': 0, 'year': 2020}]\n",
      "Success! json dataset to convert to csv is embedded in data_info['Result']\n",
      "[{'planning_area': 'Sengkang', 'total': 79375, 'below_sgd_1000': 1276, 'no_working_person': 5621, 'sgd_10000_over': 0, 'sgd_10000_to_10999': 3915, 'sgd_11000_to_11999': 3803, 'sgd_1000_to_1999': 3166, 'sgd_12000_to_12999': 3016, 'sgd_13000_to_13999': 3177, 'sgd_14000_to_14999': 2811, 'sgd_15000_to_17499': 6068, 'sgd_17500_to_19999': 3905, 'sgd_20000_over': 8762, 'sgd_2000_to_2999': 3556, 'sgd_3000_to_3999': 4024, 'sgd_4000_to_4999': 4310, 'sgd_5000_to_5999': 4318, 'sgd_6000_to_6999': 4693, 'sgd_7000_to_7999': 4431, 'sgd_8000_over': 0, 'sgd_8000_to_8999': 4164, 'sgd_9000_to_9999': 4359, 'year': 2020}]\n"
     ]
    },
    {
     "name": "stderr",
     "output_type": "stream",
     "text": [
      "/var/folders/n5/1wkddp5s2nl935zfz5y7tg480000gn/T/ipykernel_19700/4270672494.py:32: FutureWarning: pandas.io.json.json_normalize is deprecated, use pandas.json_normalize instead.\n",
      "  flattendata = json_normalize(data)\n",
      "/var/folders/n5/1wkddp5s2nl935zfz5y7tg480000gn/T/ipykernel_19700/4270672494.py:32: FutureWarning: pandas.io.json.json_normalize is deprecated, use pandas.json_normalize instead.\n",
      "  flattendata = json_normalize(data)\n"
     ]
    },
    {
     "name": "stdout",
     "output_type": "stream",
     "text": [
      "Success! json dataset to convert to csv is embedded in data_info['Result']\n",
      "[{'planning_area': 'Serangoon', 'total': 38086, 'below_sgd_1000': 496, 'no_working_person': 5318, 'sgd_10000_over': 0, 'sgd_10000_to_10999': 1379, 'sgd_11000_to_11999': 1255, 'sgd_1000_to_1999': 1444, 'sgd_12000_to_12999': 1019, 'sgd_13000_to_13999': 1052, 'sgd_14000_to_14999': 1008, 'sgd_15000_to_17499': 2038, 'sgd_17500_to_19999': 1795, 'sgd_20000_over': 8616, 'sgd_2000_to_2999': 1629, 'sgd_3000_to_3999': 1464, 'sgd_4000_to_4999': 1425, 'sgd_5000_to_5999': 1786, 'sgd_6000_to_6999': 1568, 'sgd_7000_to_7999': 1803, 'sgd_8000_over': 0, 'sgd_8000_to_8999': 1521, 'sgd_9000_to_9999': 1470, 'year': 2020}]\n",
      "Success! json dataset to convert to csv is embedded in data_info['Result']\n",
      "[{'planning_area': 'Clementi', 'total': 33609, 'below_sgd_1000': 804, 'no_working_person': 5990, 'sgd_10000_over': 0, 'sgd_10000_to_10999': 1199, 'sgd_11000_to_11999': 993, 'sgd_1000_to_1999': 1656, 'sgd_12000_to_12999': 906, 'sgd_13000_to_13999': 941, 'sgd_14000_to_14999': 702, 'sgd_15000_to_17499': 1761, 'sgd_17500_to_19999': 1341, 'sgd_20000_over': 6013, 'sgd_2000_to_2999': 1508, 'sgd_3000_to_3999': 1558, 'sgd_4000_to_4999': 1410, 'sgd_5000_to_5999': 1626, 'sgd_6000_to_6999': 1556, 'sgd_7000_to_7999': 1315, 'sgd_8000_over': 0, 'sgd_8000_to_8999': 1231, 'sgd_9000_to_9999': 1099, 'year': 2020}]\n"
     ]
    },
    {
     "name": "stderr",
     "output_type": "stream",
     "text": [
      "/var/folders/n5/1wkddp5s2nl935zfz5y7tg480000gn/T/ipykernel_19700/4270672494.py:32: FutureWarning: pandas.io.json.json_normalize is deprecated, use pandas.json_normalize instead.\n",
      "  flattendata = json_normalize(data)\n",
      "/var/folders/n5/1wkddp5s2nl935zfz5y7tg480000gn/T/ipykernel_19700/4270672494.py:32: FutureWarning: pandas.io.json.json_normalize is deprecated, use pandas.json_normalize instead.\n",
      "  flattendata = json_normalize(data)\n"
     ]
    },
    {
     "name": "stdout",
     "output_type": "stream",
     "text": [
      "Success! json dataset to convert to csv is embedded in data_info['Result']\n",
      "[{'planning_area': 'Toa Payoh', 'total': 46880, 'below_sgd_1000': 1296, 'no_working_person': 10015, 'sgd_10000_over': 0, 'sgd_10000_to_10999': 1484, 'sgd_11000_to_11999': 1400, 'sgd_1000_to_1999': 2987, 'sgd_12000_to_12999': 1202, 'sgd_13000_to_13999': 863, 'sgd_14000_to_14999': 912, 'sgd_15000_to_17499': 2236, 'sgd_17500_to_19999': 1569, 'sgd_20000_over': 6064, 'sgd_2000_to_2999': 2376, 'sgd_3000_to_3999': 2603, 'sgd_4000_to_4999': 2504, 'sgd_5000_to_5999': 2089, 'sgd_6000_to_6999': 2072, 'sgd_7000_to_7999': 1791, 'sgd_8000_over': 0, 'sgd_8000_to_8999': 2004, 'sgd_9000_to_9999': 1413, 'year': 2020}]\n",
      "Success! json dataset to convert to csv is embedded in data_info['Result']\n",
      "[{'planning_area': 'Singapore River', 'total': 0, 'below_sgd_1000': 0, 'no_working_person': 0, 'sgd_10000_over': 0, 'sgd_10000_to_10999': 0, 'sgd_11000_to_11999': 0, 'sgd_1000_to_1999': 0, 'sgd_12000_to_12999': 0, 'sgd_13000_to_13999': 0, 'sgd_14000_to_14999': 0, 'sgd_15000_to_17499': 0, 'sgd_17500_to_19999': 0, 'sgd_20000_over': 0, 'sgd_2000_to_2999': 0, 'sgd_3000_to_3999': 0, 'sgd_4000_to_4999': 0, 'sgd_5000_to_5999': 0, 'sgd_6000_to_6999': 0, 'sgd_7000_to_7999': 0, 'sgd_8000_over': 0, 'sgd_8000_to_8999': 0, 'sgd_9000_to_9999': 0, 'year': 2020}]\n"
     ]
    },
    {
     "name": "stderr",
     "output_type": "stream",
     "text": [
      "/var/folders/n5/1wkddp5s2nl935zfz5y7tg480000gn/T/ipykernel_19700/4270672494.py:32: FutureWarning: pandas.io.json.json_normalize is deprecated, use pandas.json_normalize instead.\n",
      "  flattendata = json_normalize(data)\n",
      "/var/folders/n5/1wkddp5s2nl935zfz5y7tg480000gn/T/ipykernel_19700/4270672494.py:32: FutureWarning: pandas.io.json.json_normalize is deprecated, use pandas.json_normalize instead.\n",
      "  flattendata = json_normalize(data)\n"
     ]
    },
    {
     "name": "stdout",
     "output_type": "stream",
     "text": [
      "Success! json dataset to convert to csv is embedded in data_info['Result']\n",
      "[{'planning_area': 'Sungei Kadut', 'total': 0, 'below_sgd_1000': 0, 'no_working_person': 0, 'sgd_10000_over': 0, 'sgd_10000_to_10999': 0, 'sgd_11000_to_11999': 0, 'sgd_1000_to_1999': 0, 'sgd_12000_to_12999': 0, 'sgd_13000_to_13999': 0, 'sgd_14000_to_14999': 0, 'sgd_15000_to_17499': 0, 'sgd_17500_to_19999': 0, 'sgd_20000_over': 0, 'sgd_2000_to_2999': 0, 'sgd_3000_to_3999': 0, 'sgd_4000_to_4999': 0, 'sgd_5000_to_5999': 0, 'sgd_6000_to_6999': 0, 'sgd_7000_to_7999': 0, 'sgd_8000_over': 0, 'sgd_8000_to_8999': 0, 'sgd_9000_to_9999': 0, 'year': 2020}]\n",
      "Success! json dataset to convert to csv is embedded in data_info['Result']\n",
      "[{'planning_area': 'Yishun', 'total': 75402, 'below_sgd_1000': 1551, 'no_working_person': 8698, 'sgd_10000_over': 0, 'sgd_10000_to_10999': 3458, 'sgd_11000_to_11999': 3040, 'sgd_1000_to_1999': 4455, 'sgd_12000_to_12999': 2324, 'sgd_13000_to_13999': 2349, 'sgd_14000_to_14999': 1883, 'sgd_15000_to_17499': 3689, 'sgd_17500_to_19999': 2429, 'sgd_20000_over': 5399, 'sgd_2000_to_2999': 4912, 'sgd_3000_to_3999': 4869, 'sgd_4000_to_4999': 4935, 'sgd_5000_to_5999': 5056, 'sgd_6000_to_6999': 4736, 'sgd_7000_to_7999': 4224, 'sgd_8000_over': 0, 'sgd_8000_to_8999': 3894, 'sgd_9000_to_9999': 3501, 'year': 2020}]\n"
     ]
    },
    {
     "name": "stderr",
     "output_type": "stream",
     "text": [
      "/var/folders/n5/1wkddp5s2nl935zfz5y7tg480000gn/T/ipykernel_19700/4270672494.py:32: FutureWarning: pandas.io.json.json_normalize is deprecated, use pandas.json_normalize instead.\n",
      "  flattendata = json_normalize(data)\n",
      "/var/folders/n5/1wkddp5s2nl935zfz5y7tg480000gn/T/ipykernel_19700/4270672494.py:32: FutureWarning: pandas.io.json.json_normalize is deprecated, use pandas.json_normalize instead.\n",
      "  flattendata = json_normalize(data)\n"
     ]
    }
   ],
   "source": [
    "# insert your own API key\n",
    "Authorization_key = \"Insert your API key\"\n",
    "\n",
    "headers = {'Content-Type': 'application/json',\n",
    "           'Authorization': Authorization_key,\n",
    "           'User-Agent': 'Mozilla/5.0'}\n",
    "\n",
    "\n",
    "def get_data(url):\n",
    "\n",
    "    response = response = requests.request(\"GET\", url, headers=headers)\n",
    "\n",
    "    if response.status_code == 200:\n",
    "        return json.loads(response.content.decode('utf-8'))\n",
    "    else:\n",
    "        return None\n",
    "\n",
    "# for loop to call onemap API with the planning areas gotten from previous list   \n",
    "# take note that onemap API is updated every 5 years hence, we are using 2020 data\n",
    "for planning_area in df['pln_area_n']:\n",
    "    url = f\"https://www.onemap.gov.sg/api/public/popapi/getHouseholdMonthlyIncomeWork?planningArea={planning_area}&year=2020\"\n",
    "    data_info = get_data(url)\n",
    "    if data_info is not None:\n",
    "        print(\"Success! json dataset to convert to csv is embedded in data_info['Result']\")   \n",
    "    else:\n",
    "        print('[!] Request Failed')\n",
    "\n",
    "    #flatten nested data in json file\n",
    "    from pandas.io.json import json_normalize\n",
    "    data = data_info\n",
    "    print(data_info)\n",
    "    flattendata = json_normalize(data)\n",
    "    flattendata.to_csv('household_monthly_income_' + '2020' + '.csv', mode='a' , index=False)"
   ]
  }
 ],
 "metadata": {
  "kernelspec": {
   "display_name": "Python 3 (ipykernel)",
   "language": "python",
   "name": "python3"
  },
  "language_info": {
   "codemirror_mode": {
    "name": "ipython",
    "version": 3
   },
   "file_extension": ".py",
   "mimetype": "text/x-python",
   "name": "python",
   "nbconvert_exporter": "python",
   "pygments_lexer": "ipython3",
   "version": "3.9.13"
  }
 },
 "nbformat": 4,
 "nbformat_minor": 5
}
