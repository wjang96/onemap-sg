{
 "cells": [
  {
   "cell_type": "code",
   "execution_count": 1,
   "id": "52c6abce",
   "metadata": {},
   "outputs": [
    {
     "name": "stdout",
     "output_type": "stream",
     "text": [
      "2022\n",
      "Success! json dataset to convert to csv is embedded in data_info['Result']\n"
     ]
    },
    {
     "name": "stderr",
     "output_type": "stream",
     "text": [
      "/var/folders/n5/1wkddp5s2nl935zfz5y7tg480000gn/T/ipykernel_17177/1620722896.py:49: FutureWarning: pandas.io.json.json_normalize is deprecated, use pandas.json_normalize instead.\n",
      "  flattendata = json_normalize(data)\n"
     ]
    }
   ],
   "source": [
    "import json\n",
    "import requests\n",
    "import pandas as pd\n",
    "import csv\n",
    "import json\n",
    "\n",
    "import datetime\n",
    "\n",
    "# Get the current date\n",
    "current_date = datetime.datetime.now()\n",
    "\n",
    "# Subtract 1 year from the current year\n",
    "one_year_ago = current_date - datetime.timedelta(days=365)\n",
    "\n",
    "# Get the year from the result\n",
    "year_minus_1 = one_year_ago.year\n",
    "\n",
    "print(year_minus_1)\n",
    "      \n",
    "url = f\"https://www.onemap.gov.sg/api/public/popapi/getPlanningareaNames?year={year_minus_1}\"\n",
    "\n",
    "# insert your own API key\n",
    "Authorization_key = \"Insert your API key\"\n",
    "\n",
    "headers = {'Content-Type': 'application/json',\n",
    "           'Authorization': Authorization_key,\n",
    "           'User-Agent': 'Mozilla/5.0'}\n",
    "\n",
    "# Perform API call to get the list of planning areas dated last year\n",
    "def get_data():\n",
    "\n",
    "    response = response = requests.request(\"GET\", url, headers=headers)\n",
    "\n",
    "    if response.status_code == 200:\n",
    "        return json.loads(response.content.decode('utf-8'))\n",
    "    else:\n",
    "        return None\n",
    "    \n",
    "data_info = get_data()\n",
    "\n",
    "if data_info is not None:\n",
    "    print(\"Success! json dataset to convert to csv is embedded in data_info['Result']\")   \n",
    "else:\n",
    "    print('[!] Request Failed')\n",
    "\n",
    "#flatten nested data in json file\n",
    "from pandas.io.json import json_normalize\n",
    "data = data_info\n",
    "flattendata = json_normalize(data)\n",
    "\n",
    "#convert json data to .csv file, removing the index number\n",
    "flattendata.to_csv('planning_area_list_' + str(year_minus_1) + '.csv', index=False)"
   ]
  }
 ],
 "metadata": {
  "kernelspec": {
   "display_name": "Python 3 (ipykernel)",
   "language": "python",
   "name": "python3"
  },
  "language_info": {
   "codemirror_mode": {
    "name": "ipython",
    "version": 3
   },
   "file_extension": ".py",
   "mimetype": "text/x-python",
   "name": "python",
   "nbconvert_exporter": "python",
   "pygments_lexer": "ipython3",
   "version": "3.9.13"
  }
 },
 "nbformat": 4,
 "nbformat_minor": 5
}
